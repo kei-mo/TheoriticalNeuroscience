{
  "nbformat": 4,
  "nbformat_minor": 0,
  "metadata": {
    "colab": {
      "name": "Chapter8_Reinforcement_Learning.ipynb",
      "version": "0.3.2",
      "provenance": [],
      "collapsed_sections": [],
      "include_colab_link": true
    },
    "kernelspec": {
      "name": "python3",
      "display_name": "Python 3"
    }
  },
  "cells": [
    {
      "cell_type": "markdown",
      "metadata": {
        "id": "view-in-github",
        "colab_type": "text"
      },
      "source": [
        "<a href=\"https://colab.research.google.com/github/kei-mo/TheoriticalNeuroscience/blob/master/Chapter8_Reinforcement_Learning.ipynb\" target=\"_parent\"><img src=\"https://colab.research.google.com/assets/colab-badge.svg\" alt=\"Open In Colab\"/></a>"
      ]
    },
    {
      "cell_type": "markdown",
      "metadata": {
        "id": "trCrH4-FhJhO",
        "colab_type": "text"
      },
      "source": [
        "# Chapter 9 : Classical Conditioning and Reinforcement Learning"
      ]
    },
    {
      "cell_type": "code",
      "metadata": {
        "id": "LGw8_8AieFBd",
        "colab_type": "code",
        "colab": {}
      },
      "source": [
        "from matplotlib import pyplot as plt\n",
        "import numpy as np"
      ],
      "execution_count": 0,
      "outputs": []
    },
    {
      "cell_type": "markdown",
      "metadata": {
        "id": "mqnieeq3hxSz",
        "colab_type": "text"
      },
      "source": [
        "## 9.1 Classical conditioning"
      ]
    },
    {
      "cell_type": "markdown",
      "metadata": {
        "id": "TiKCgo1lNbQ1",
        "colab_type": "text"
      },
      "source": [
        "### Prediction rewards: The Recorla-Wagner Rule"
      ]
    },
    {
      "cell_type": "markdown",
      "metadata": {
        "id": "ZWJ446eJZjyP",
        "colab_type": "text"
      },
      "source": [
        "$v =wu$  \n",
        "$w \\leftarrow w + \\epsilon \\delta u $  \n",
        "$\\delta = r - u $"
      ]
    },
    {
      "cell_type": "markdown",
      "metadata": {
        "id": "m_q5ZtMBepdb",
        "colab_type": "text"
      },
      "source": [
        "#### Acquire and Extinction"
      ]
    },
    {
      "cell_type": "code",
      "metadata": {
        "id": "RpUgl50fNWFe",
        "colab_type": "code",
        "colab": {
          "base_uri": "https://localhost:8080/",
          "height": 269
        },
        "outputId": "48831328-7bb6-49cc-d914-b61ce3bc47ce"
      },
      "source": [
        "epsilon = 0.05\n",
        "w_list = [0]\n",
        "\n",
        "# Acquire\n",
        "for i in range(0,100):\n",
        "    r = 1\n",
        "    u = 1\n",
        "    v = w_list[i]*u\n",
        "    delta = r - v\n",
        "    w = w_list[i] + epsilon * delta * u\n",
        "    w_list.append(w)\n",
        "\n",
        "# Extinction\n",
        "for i in range(100,200):\n",
        "    u = 1 \n",
        "    r = 0\n",
        "    v = w_list[i]*u\n",
        "    delta = r - v\n",
        "    w = w_list[i] + epsilon * delta * u\n",
        "    w_list.append(w)\n",
        "    \n",
        "plt.plot(w_list, \"o\")\n",
        "plt.show()"
      ],
      "execution_count": 29,
      "outputs": [
        {
          "output_type": "display_data",
          "data": {
            "image/png": "[encoded data removed]",
            "text/plain": [
              "<Figure size 432x288 with 1 Axes>"
            ]
          },
          "metadata": {
            "tags": []
          }
        }
      ]
    },
    {
      "cell_type": "markdown",
      "metadata": {
        "id": "9pFWtSpyeuY6",
        "colab_type": "text"
      },
      "source": [
        "#### Partial reinforcment"
      ]
    },
    {
      "cell_type": "code",
      "metadata": {
        "id": "7j5PoKizeu5O",
        "colab_type": "code",
        "colab": {
          "base_uri": "https://localhost:8080/",
          "height": 269
        },
        "outputId": "e2d6dd16-8be9-4842-c40c-b202971b4833"
      },
      "source": [
        "epsilon = 0.05\n",
        "w_list = [0]\n",
        "for i in range(200):\n",
        "    u = 1 \n",
        "    r = 1 if np.random.rand()>0.5 else 0\n",
        "    v = w_list[i]*u\n",
        "    delta = r - v\n",
        "    w = w_list[i] + epsilon * delta * u\n",
        "    w_list.append(w)\n",
        "plt.plot(w_list,\"o\")\n",
        "plt.ylim(0,1)\n",
        "plt.show()"
      ],
      "execution_count": 35,
      "outputs": [
        {
          "output_type": "display_data",
          "data": {
            "image/png": "[encoded data removed]",
            "text/plain": [
              "<Figure size 432x288 with 1 Axes>"
            ]
          },
          "metadata": {
            "tags": []
          }
        }
      ]
    },
    {
      "cell_type": "markdown",
      "metadata": {
        "id": "zVHPO_CTi0S4",
        "colab_type": "text"
      },
      "source": [
        "### Temporal difference "
      ]
    },
    {
      "cell_type": "code",
      "metadata": {
        "id": "pbyKNKnQjAO7",
        "colab_type": "code",
        "colab": {}
      },
      "source": [
        "trial_num = 100\n",
        "trial_len = 250\n",
        "\n",
        "u_list = [0]*trial_len\n",
        "u_list[100] = 1\n",
        "\n",
        "r_list = [0]*trial_len\n",
        "r_list[200] = 1\n",
        "\n",
        "w_list = [0] * trial_len\n",
        "v_list = [0] * trial_len\n",
        "\n",
        "v_history = [v_list]\n",
        "delta_history = []"
      ],
      "execution_count": 0,
      "outputs": []
    },
    {
      "cell_type": "code",
      "metadata": {
        "id": "9XPw0br6Umja",
        "colab_type": "code",
        "colab": {}
      },
      "source": [
        "epsilon = 0.05"
      ],
      "execution_count": 0,
      "outputs": []
    },
    {
      "cell_type": "code",
      "metadata": {
        "id": "3GBLaAs1JPth",
        "colab_type": "code",
        "colab": {}
      },
      "source": [
        "for trial in range(100):\n",
        "    for t in range(250-1):\n",
        "        next_v = v_list[t+1]\n",
        "        v = v_list[t]\n",
        "        delta = r_list[t] + next_v - v\n",
        "        w_list[t] = w_list[t] + epsilon * delta * u_list[t]\n",
        "        "
      ],
      "execution_count": 0,
      "outputs": []
    },
    {
      "cell_type": "code",
      "metadata": {
        "id": "NzqH5M7QVSbz",
        "colab_type": "code",
        "colab": {
          "base_uri": "https://localhost:8080/",
          "height": 4267
        },
        "outputId": "ae15ab59-4345-42b7-aa89-3ff0da5adbc3"
      },
      "source": [
        "v_list"
      ],
      "execution_count": 14,
      "outputs": [
        {
          "output_type": "execute_result",
          "data": {
            "text/plain": [
              "[0,\n",
              " 0,\n",
              " 0,\n",
              " 0,\n",
              " 0,\n",
              " 0,\n",
              " 0,\n",
              " 0,\n",
              " 0,\n",
              " 0,\n",
              " 0,\n",
              " 0,\n",
              " 0,\n",
              " 0,\n",
              " 0,\n",
              " 0,\n",
              " 0,\n",
              " 0,\n",
              " 0,\n",
              " 0,\n",
              " 0,\n",
              " 0,\n",
              " 0,\n",
              " 0,\n",
              " 0,\n",
              " 0,\n",
              " 0,\n",
              " 0,\n",
              " 0,\n",
              " 0,\n",
              " 0,\n",
              " 0,\n",
              " 0,\n",
              " 0,\n",
              " 0,\n",
              " 0,\n",
              " 0,\n",
              " 0,\n",
              " 0,\n",
              " 0,\n",
              " 0,\n",
              " 0,\n",
              " 0,\n",
              " 0,\n",
              " 0,\n",
              " 0,\n",
              " 0,\n",
              " 0,\n",
              " 0,\n",
              " 0,\n",
              " 0,\n",
              " 0,\n",
              " 0,\n",
              " 0,\n",
              " 0,\n",
              " 0,\n",
              " 0,\n",
              " 0,\n",
              " 0,\n",
              " 0,\n",
              " 0,\n",
              " 0,\n",
              " 0,\n",
              " 0,\n",
              " 0,\n",
              " 0,\n",
              " 0,\n",
              " 0,\n",
              " 0,\n",
              " 0,\n",
              " 0,\n",
              " 0,\n",
              " 0,\n",
              " 0,\n",
              " 0,\n",
              " 0,\n",
              " 0,\n",
              " 0,\n",
              " 0,\n",
              " 0,\n",
              " 0,\n",
              " 0,\n",
              " 0,\n",
              " 0,\n",
              " 0,\n",
              " 0,\n",
              " 0,\n",
              " 0,\n",
              " 0,\n",
              " 0,\n",
              " 0,\n",
              " 0,\n",
              " 0,\n",
              " 0,\n",
              " 0,\n",
              " 0,\n",
              " 0,\n",
              " 0,\n",
              " 0,\n",
              " 0,\n",
              " 0,\n",
              " 0,\n",
              " 0,\n",
              " 0,\n",
              " 0,\n",
              " 0,\n",
              " 0,\n",
              " 0,\n",
              " 0,\n",
              " 0,\n",
              " 0,\n",
              " 0,\n",
              " 0,\n",
              " 0,\n",
              " 0,\n",
              " 0,\n",
              " 0,\n",
              " 0,\n",
              " 0,\n",
              " 0,\n",
              " 0,\n",
              " 0,\n",
              " 0,\n",
              " 0,\n",
              " 0,\n",
              " 0,\n",
              " 0,\n",
              " 0,\n",
              " 0,\n",
              " 0,\n",
              " 0,\n",
              " 0,\n",
              " 0,\n",
              " 0,\n",
              " 0,\n",
              " 0,\n",
              " 0,\n",
              " 0,\n",
              " 0,\n",
              " 0,\n",
              " 0,\n",
              " 0,\n",
              " 0,\n",
              " 0,\n",
              " 0,\n",
              " 0,\n",
              " 0,\n",
              " 0,\n",
              " 0,\n",
              " 0,\n",
              " 0,\n",
              " 0,\n",
              " 0,\n",
              " 0,\n",
              " 0,\n",
              " 0,\n",
              " 0,\n",
              " 0,\n",
              " 0,\n",
              " 0,\n",
              " 0,\n",
              " 0,\n",
              " 0,\n",
              " 0,\n",
              " 0,\n",
              " 0,\n",
              " 0,\n",
              " 0,\n",
              " 0,\n",
              " 0,\n",
              " 0,\n",
              " 0,\n",
              " 0,\n",
              " 0,\n",
              " 0,\n",
              " 0,\n",
              " 0,\n",
              " 0,\n",
              " 0,\n",
              " 0,\n",
              " 0,\n",
              " 0,\n",
              " 0,\n",
              " 0,\n",
              " 0,\n",
              " 0,\n",
              " 0,\n",
              " 0,\n",
              " 0,\n",
              " 0,\n",
              " 0,\n",
              " 0,\n",
              " 0,\n",
              " 0,\n",
              " 0,\n",
              " 0,\n",
              " 0,\n",
              " 0,\n",
              " 0,\n",
              " 0,\n",
              " 0,\n",
              " 0,\n",
              " 0,\n",
              " 0,\n",
              " 0,\n",
              " 0,\n",
              " 0,\n",
              " 0,\n",
              " 0,\n",
              " 0,\n",
              " 0,\n",
              " 0,\n",
              " 0,\n",
              " 0,\n",
              " 0,\n",
              " 0,\n",
              " 0,\n",
              " 0,\n",
              " 0,\n",
              " 0,\n",
              " 0,\n",
              " 0,\n",
              " 0,\n",
              " 0,\n",
              " 0,\n",
              " 0,\n",
              " 0,\n",
              " 0,\n",
              " 0,\n",
              " 0,\n",
              " 0,\n",
              " 0,\n",
              " 0,\n",
              " 0,\n",
              " 0,\n",
              " 0,\n",
              " 0,\n",
              " 0,\n",
              " 0,\n",
              " 0,\n",
              " 0,\n",
              " 0,\n",
              " 0,\n",
              " 0,\n",
              " 0,\n",
              " 0,\n",
              " 0,\n",
              " 0,\n",
              " 0,\n",
              " 0]"
            ]
          },
          "metadata": {
            "tags": []
          },
          "execution_count": 14
        }
      ]
    },
    {
      "cell_type": "markdown",
      "metadata": {
        "id": "5d3DZH1HDaRq",
        "colab_type": "text"
      },
      "source": [
        "## 9.3 Static Action Choice"
      ]
    },
    {
      "cell_type": "markdown",
      "metadata": {
        "id": "YyiZEh5uDkCo",
        "colab_type": "text"
      },
      "source": [
        "### Indirect actor"
      ]
    },
    {
      "cell_type": "code",
      "metadata": {
        "id": "akad9MQoDeZt",
        "colab_type": "code",
        "colab": {}
      },
      "source": [
        "\n",
        "\n",
        "rb = 1\n",
        "ry = 2\n",
        "for i in range(0,100):\n",
        "    \n",
        "\n",
        "rb = 2\n",
        "ry = 1\n",
        "for i in range(100,200):\n"
      ],
      "execution_count": 0,
      "outputs": []
    },
    {
      "cell_type": "markdown",
      "metadata": {
        "id": "0Q-XH2VnDmnl",
        "colab_type": "text"
      },
      "source": [
        "### Direct actor"
      ]
    },
    {
      "cell_type": "code",
      "metadata": {
        "id": "GsLP2YO4DoJS",
        "colab_type": "code",
        "colab": {}
      },
      "source": [
        ""
      ],
      "execution_count": 0,
      "outputs": []
    }
  ]
}