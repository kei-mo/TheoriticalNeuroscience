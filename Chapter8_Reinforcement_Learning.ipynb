{
  "nbformat": 4,
  "nbformat_minor": 0,
  "metadata": {
    "colab": {
      "name": "Chapter8_Reinforcement_Learning.ipynb",
      "version": "0.3.2",
      "provenance": [],
      "collapsed_sections": [],
      "include_colab_link": true
    },
    "kernelspec": {
      "name": "python3",
      "display_name": "Python 3"
    }
  },
  "cells": [
    {
      "cell_type": "markdown",
      "metadata": {
        "id": "view-in-github",
        "colab_type": "text"
      },
      "source": [
        "<a href=\"https://colab.research.google.com/github/kei-mo/TheoriticalNeuroscience/blob/master/Chapter8_Reinforcement_Learning.ipynb\" target=\"_parent\"><img src=\"https://colab.research.google.com/assets/colab-badge.svg\" alt=\"Open In Colab\"/></a>"
      ]
    },
    {
      "cell_type": "markdown",
      "metadata": {
        "id": "trCrH4-FhJhO",
        "colab_type": "text"
      },
      "source": [
        "# Chapter 9 : Classical Conditioning and Reinforcement Learning"
      ]
    },
    {
      "cell_type": "code",
      "metadata": {
        "id": "LGw8_8AieFBd",
        "colab_type": "code",
        "colab": {}
      },
      "source": [
        "from matplotlib import pyplot as plt\n",
        "import numpy as np\n",
        "import random"
      ],
      "execution_count": 0,
      "outputs": []
    },
    {
      "cell_type": "markdown",
      "metadata": {
        "id": "mqnieeq3hxSz",
        "colab_type": "text"
      },
      "source": [
        "## 9.1 Classical conditioning"
      ]
    },
    {
      "cell_type": "markdown",
      "metadata": {
        "id": "TiKCgo1lNbQ1",
        "colab_type": "text"
      },
      "source": [
        "### Prediction rewards: The Recorla-Wagner Rule"
      ]
    },
    {
      "cell_type": "markdown",
      "metadata": {
        "id": "ZWJ446eJZjyP",
        "colab_type": "text"
      },
      "source": [
        "$v =wu$  \n",
        "$w \\leftarrow w + \\epsilon \\delta u $  \n",
        "$\\delta = r - u $"
      ]
    },
    {
      "cell_type": "markdown",
      "metadata": {
        "id": "m_q5ZtMBepdb",
        "colab_type": "text"
      },
      "source": [
        "#### Acquire and Extinction"
      ]
    },
    {
      "cell_type": "code",
      "metadata": {
        "id": "RpUgl50fNWFe",
        "colab_type": "code",
        "outputId": "48831328-7bb6-49cc-d914-b61ce3bc47ce",
        "colab": {
          "base_uri": "https://localhost:8080/",
          "height": 269
        }
      },
      "source": [
        "epsilon = 0.05\n",
        "w_list = [0]\n",
        "\n",
        "# Acquire\n",
        "for i in range(0,100):\n",
        "    r = 1\n",
        "    u = 1\n",
        "    v = w_list[i]*u\n",
        "    delta = r - v\n",
        "    w = w_list[i] + epsilon * delta * u\n",
        "    w_list.append(w)\n",
        "\n",
        "# Extinction\n",
        "for i in range(100,200):\n",
        "    u = 1 \n",
        "    r = 0\n",
        "    v = w_list[i]*u\n",
        "    delta = r - v\n",
        "    w = w_list[i] + epsilon * delta * u\n",
        "    w_list.append(w)\n",
        "    \n",
        "plt.plot(w_list, \"o\")\n",
        "plt.show()"
      ],
      "execution_count": 0,
      "outputs": [
        {
          "output_type": "display_data",
          "data": {
            "image/png": "[encoded data removed]",
            "text/plain": [
              "<Figure size 432x288 with 1 Axes>"
            ]
          },
          "metadata": {
            "tags": []
          }
        }
      ]
    },
    {
      "cell_type": "markdown",
      "metadata": {
        "id": "9pFWtSpyeuY6",
        "colab_type": "text"
      },
      "source": [
        "#### Partial reinforcment"
      ]
    },
    {
      "cell_type": "code",
      "metadata": {
        "id": "7j5PoKizeu5O",
        "colab_type": "code",
        "outputId": "e2d6dd16-8be9-4842-c40c-b202971b4833",
        "colab": {
          "base_uri": "https://localhost:8080/",
          "height": 269
        }
      },
      "source": [
        "epsilon = 0.05\n",
        "w_list = [0]\n",
        "for i in range(200):\n",
        "    u = 1 \n",
        "    r = 1 if np.random.rand()>0.5 else 0\n",
        "    v = w_list[i]*u\n",
        "    delta = r - v\n",
        "    w = w_list[i] + epsilon * delta * u\n",
        "    w_list.append(w)\n",
        "plt.plot(w_list,\"o\")\n",
        "plt.ylim(0,1)\n",
        "plt.show()"
      ],
      "execution_count": 0,
      "outputs": [
        {
          "output_type": "display_data",
          "data": {
            "image/png": "[encoded data removed]",
            "text/plain": [
              "<Figure size 432x288 with 1 Axes>"
            ]
          },
          "metadata": {
            "tags": []
          }
        }
      ]
    },
    {
      "cell_type": "markdown",
      "metadata": {
        "id": "zVHPO_CTi0S4",
        "colab_type": "text"
      },
      "source": [
        "### Temporal difference "
      ]
    },
    {
      "cell_type": "code",
      "metadata": {
        "id": "pbyKNKnQjAO7",
        "colab_type": "code",
        "colab": {}
      },
      "source": [
        "trial_num = 200\n",
        "trial_len = 250\n",
        "epsilon = 0.8\n",
        "\n",
        "stumulate_time = 100\n",
        "reward_time = 200\n",
        "\n",
        "# stiumlus\n",
        "u_list = np.array([0]*trial_len)\n",
        "u_list[stumulate_time] = 1\n",
        "\n",
        "# reward\n",
        "r_list = [0]*trial_len\n",
        "r_list[reward_time] = 1\n",
        "\n",
        "# weight\n",
        "w_list = [0] * trial_len\n",
        "# value\n",
        "v_list = [0] * trial_len\n",
        "\n",
        "delta_hist = [0] * trial_len\n",
        "for trial in range(trial_num):\n",
        "    for t in range(trial_len - 1):\n",
        "        next_v = v_list[t+1]\n",
        "        v = v_list[t]\n",
        "        delta = r_list[t] + next_v - v\n",
        "        for tau in range(t+1):\n",
        "            w_list[tau] = w_list[tau] + epsilon * delta * u_list[t-tau]\n",
        "        v_list[t] = np.sum([w*u for w,u in zip(w_list[:t+1], u_list[:t+1][::-1])])\n",
        "        \n",
        "        delta_hist[t] = delta\n",
        "#v_history = [v_list]#\n",
        "#delta_history = []"
      ],
      "execution_count": 0,
      "outputs": []
    },
    {
      "cell_type": "code",
      "metadata": {
        "id": "O7XMpJpR_pun",
        "colab_type": "code",
        "outputId": "8a579724-b318-4ddc-9fa2-d61d4be7f555",
        "colab": {
          "base_uri": "https://localhost:8080/",
          "height": 286
        }
      },
      "source": [
        "plt.plot(v_list)"
      ],
      "execution_count": 32,
      "outputs": [
        {
          "output_type": "execute_result",
          "data": {
            "text/plain": [
              "[<matplotlib.lines.Line2D at 0x7fe5ad64f9b0>]"
            ]
          },
          "metadata": {
            "tags": []
          },
          "execution_count": 32
        },
        {
          "output_type": "display_data",
          "data": {
            "image/png": "[encoded data removed]",
            "text/plain": [
              "<Figure size 432x288 with 1 Axes>"
            ]
          },
          "metadata": {
            "tags": []
          }
        }
      ]
    },
    {
      "cell_type": "code",
      "metadata": {
        "id": "JaoSRfAqILDo",
        "colab_type": "code",
        "colab": {
          "base_uri": "https://localhost:8080/",
          "height": 286
        },
        "outputId": "afcb06a4-20ea-44d6-8ad4-d6876dd2825d"
      },
      "source": [
        "plt.plot(w_list)"
      ],
      "execution_count": 34,
      "outputs": [
        {
          "output_type": "execute_result",
          "data": {
            "text/plain": [
              "[<matplotlib.lines.Line2D at 0x7fe5ad600550>]"
            ]
          },
          "metadata": {
            "tags": []
          },
          "execution_count": 34
        },
        {
          "output_type": "display_data",
          "data": {
            "image/png": "[encoded data removed]",
            "text/plain": [
              "<Figure size 432x288 with 1 Axes>"
            ]
          },
          "metadata": {
            "tags": []
          }
        }
      ]
    },
    {
      "cell_type": "code",
      "metadata": {
        "id": "mED0xap0G4Qx",
        "colab_type": "code",
        "colab": {
          "base_uri": "https://localhost:8080/",
          "height": 286
        },
        "outputId": "21a83aa4-b9d0-4380-edb7-0684970ce8a9"
      },
      "source": [
        "plt.plot(delta_hist)"
      ],
      "execution_count": 33,
      "outputs": [
        {
          "output_type": "execute_result",
          "data": {
            "text/plain": [
              "[<matplotlib.lines.Line2D at 0x7fe5ad626748>]"
            ]
          },
          "metadata": {
            "tags": []
          },
          "execution_count": 33
        },
        {
          "output_type": "display_data",
          "data": {
            "image/png": "[encoded data removed]",
            "text/plain": [
              "<Figure size 432x288 with 1 Axes>"
            ]
          },
          "metadata": {
            "tags": []
          }
        }
      ]
    },
    {
      "cell_type": "code",
      "metadata": {
        "id": "dVtdqscdGUD4",
        "colab_type": "code",
        "colab": {}
      },
      "source": [
        "trial_num = 10\n",
        "trial_len = 25\n",
        "epsilon = 0.1\n",
        "\n",
        "stumulate_time = 10\n",
        "reward_time = 20\n",
        "\n",
        "# stiumlus\n",
        "u_list = np.array([0]*trial_len)\n",
        "u_list[stumulate_time] = 1\n",
        "\n",
        "# reward\n",
        "r_list = [0]*trial_len\n",
        "r_list[reward_time] = 1\n",
        "\n",
        "# weight\n",
        "w_list = [0] * trial_len\n",
        "# value\n",
        "v_list = [0] * trial_len\n",
        "\n",
        "delta_list = [0] * trial_len\n",
        "for trial in range(trial_num):\n",
        "    for t in range(trial_len - 1):\n",
        "        v_list[t] = np.sum([w*u for w,u in zip(w_list[:t+1], u_list[:t+1][::-1])])\n",
        "        v_list[t] = np.sum([w*u for w,u in zip(w_list[:t+1], u_list[:t+1][::-1])])\n",
        "        next_v = v_list[t+1]\n",
        "        v = v_list[t]\n",
        "        delta = r_list[t] + next_v - v\n",
        "        for tau in range(t+1):\n",
        "            w_list[tau] = w_list[tau] + epsilon * delta * u_list[t-tau]\n",
        "        #v_list[t] = np.sum([w*u for w,u in zip(w_list[:t+1], u_list[:t+1][::-1])])\n",
        "\n",
        "#v_history = [v_list]#\n",
        "#delta_history = []"
      ],
      "execution_count": 0,
      "outputs": []
    },
    {
      "cell_type": "code",
      "metadata": {
        "id": "9XPw0br6Umja",
        "colab_type": "code",
        "colab": {}
      },
      "source": [
        "epsilon = 0.05"
      ],
      "execution_count": 0,
      "outputs": []
    },
    {
      "cell_type": "code",
      "metadata": {
        "id": "3GBLaAs1JPth",
        "colab_type": "code",
        "outputId": "58de56b4-f48f-4d16-d8ce-4956cd507d26",
        "colab": {
          "base_uri": "https://localhost:8080/",
          "height": 219
        }
      },
      "source": [
        "for trial in range(100):\n",
        "    for t in range(250-1):\n",
        "        next_v = v_list[t+1]\n",
        "        v = v_list[t]\n",
        "        delta = r_list[t] + next_v - v\n",
        "        w_list[t] = w_list[t] + epsilon * delta * u_list[t]\n",
        "        v_list[t] = np.sum([w_list[t] * u for u in u_list[:t]])\n",
        "        "
      ],
      "execution_count": 0,
      "outputs": [
        {
          "output_type": "error",
          "ename": "NameError",
          "evalue": "ignored",
          "traceback": [
            "\u001b[0;31m---------------------------------------------------------------------------\u001b[0m",
            "\u001b[0;31mNameError\u001b[0m                                 Traceback (most recent call last)",
            "\u001b[0;32m<ipython-input-16-311716098ae8>\u001b[0m in \u001b[0;36m<module>\u001b[0;34m()\u001b[0m\n\u001b[1;32m      5\u001b[0m         \u001b[0mdelta\u001b[0m \u001b[0;34m=\u001b[0m \u001b[0mr_list\u001b[0m\u001b[0;34m[\u001b[0m\u001b[0mt\u001b[0m\u001b[0;34m]\u001b[0m \u001b[0;34m+\u001b[0m \u001b[0mnext_v\u001b[0m \u001b[0;34m-\u001b[0m \u001b[0mv\u001b[0m\u001b[0;34m\u001b[0m\u001b[0;34m\u001b[0m\u001b[0m\n\u001b[1;32m      6\u001b[0m         \u001b[0mw_list\u001b[0m\u001b[0;34m[\u001b[0m\u001b[0mt\u001b[0m\u001b[0;34m]\u001b[0m \u001b[0;34m=\u001b[0m \u001b[0mw_list\u001b[0m\u001b[0;34m[\u001b[0m\u001b[0mt\u001b[0m\u001b[0;34m]\u001b[0m \u001b[0;34m+\u001b[0m \u001b[0mepsilon\u001b[0m \u001b[0;34m*\u001b[0m \u001b[0mdelta\u001b[0m \u001b[0;34m*\u001b[0m \u001b[0mu_list\u001b[0m\u001b[0;34m[\u001b[0m\u001b[0mt\u001b[0m\u001b[0;34m]\u001b[0m\u001b[0;34m\u001b[0m\u001b[0;34m\u001b[0m\u001b[0m\n\u001b[0;32m----> 7\u001b[0;31m         \u001b[0mv_list\u001b[0m\u001b[0;34m[\u001b[0m\u001b[0mt\u001b[0m\u001b[0;34m]\u001b[0m \u001b[0;34m=\u001b[0m \u001b[0mnp\u001b[0m\u001b[0;34m.\u001b[0m\u001b[0msum\u001b[0m\u001b[0;34m(\u001b[0m\u001b[0;34m[\u001b[0m\u001b[0mw_list\u001b[0m\u001b[0;34m[\u001b[0m\u001b[0mt\u001b[0m\u001b[0;34m]\u001b[0m \u001b[0;34m*\u001b[0m \u001b[0mu\u001b[0m \u001b[0;32mfor\u001b[0m \u001b[0mu\u001b[0m \u001b[0;32min\u001b[0m \u001b[0mu_list\u001b[0m\u001b[0;34m[\u001b[0m\u001b[0;34m:\u001b[0m\u001b[0mt\u001b[0m\u001b[0;34m]\u001b[0m\u001b[0;34m]\u001b[0m\u001b[0;34m)\u001b[0m\u001b[0;34m\u001b[0m\u001b[0;34m\u001b[0m\u001b[0m\n\u001b[0m\u001b[1;32m      8\u001b[0m \u001b[0;34m\u001b[0m\u001b[0m\n",
            "\u001b[0;31mNameError\u001b[0m: name 'np' is not defined"
          ]
        }
      ]
    },
    {
      "cell_type": "markdown",
      "metadata": {
        "id": "5d3DZH1HDaRq",
        "colab_type": "text"
      },
      "source": [
        "## 9.3 Static Action Choice"
      ]
    },
    {
      "cell_type": "markdown",
      "metadata": {
        "id": "bZhtt24cHBtX",
        "colab_type": "text"
      },
      "source": [
        "**Bee Foraing Task**  \n",
        "This task is simplication version of multi-armed bandit task"
      ]
    },
    {
      "cell_type": "code",
      "metadata": {
        "id": "5JXzRkjaG8-2",
        "colab_type": "code",
        "colab": {}
      },
      "source": [
        "class Bandit():\n",
        "    def __init__(self, arm_num):\n",
        "        self.mean_reward = [0]*arm_num\n",
        "        \n",
        "    def return_reward(self,arm):\n",
        "        reward = random.gauss(self.mean_reward[arm], 0.8)\n",
        "        return reward"
      ],
      "execution_count": 0,
      "outputs": []
    },
    {
      "cell_type": "code",
      "metadata": {
        "id": "wR4pnBhjJclT",
        "colab_type": "code",
        "colab": {}
      },
      "source": [
        "def softmax(x, beta):\n",
        "    e_x = np.exp(beta*(x - np.max(x)))\n",
        "    return e_x / e_x.sum()"
      ],
      "execution_count": 0,
      "outputs": []
    },
    {
      "cell_type": "markdown",
      "metadata": {
        "id": "YyiZEh5uDkCo",
        "colab_type": "text"
      },
      "source": [
        "### Indirect actor"
      ]
    },
    {
      "cell_type": "markdown",
      "metadata": {
        "id": "vzWZSzw531VQ",
        "colab_type": "text"
      },
      "source": [
        "\n",
        "$m_b \\leftarrow m_b + \\epsilon \\delta $  \n",
        "$\\delta = r_b - m_b $"
      ]
    },
    {
      "cell_type": "code",
      "metadata": {
        "id": "akad9MQoDeZt",
        "colab_type": "code",
        "colab": {}
      },
      "source": [
        "\n",
        "epsilon = 0.1\n",
        "beta = 1\n",
        "\n",
        "m = [0, 0] # action values\n",
        "visit = [0,0]\n",
        "\n",
        "# history\n",
        "m_hist = [m]\n",
        "visit_hist = [visit]\n",
        "\n",
        "\n",
        "flower_env = Bandit(2)\n",
        "flower_env.mean_reward = [1, 2]\n",
        "for i in range(0,100):\n",
        "    m = m.copy()\n",
        "    \n",
        "    action_prob = softmax(m, beta)\n",
        "    action = random.choices([0,1], weights=action_prob)[0]\n",
        "    reward = flower_env.return_reward(action)\n",
        "    delta = reward - m[action] # delta\n",
        "    m[action] = m[action] +  epsilon * delta \n",
        "    \n",
        "    m_hist.append(m)\n",
        "    visit_hist.append([1,0] if action==0 else [0,1])\n",
        "    \n",
        "    \n",
        "# Change mean reward(nector volume) of each flower at t=100\n",
        "flower_env.mean_reward = [2, 1]\n",
        "for i in range(100,200):\n",
        "    m = m.copy()\n",
        "    \n",
        "    action_prob = softmax(m, beta)\n",
        "    action = random.choices([0,1], weights=action_prob)[0]\n",
        "    reward = flower_env.return_reward(action)\n",
        "    delta = reward - m[action]\n",
        "    m[action] = m[action] +  epsilon * delta \n",
        "    \n",
        "    m_hist.append(m)\n",
        "    visit_hist.append([1,0] if action==0 else [0,1])\n",
        "\n",
        "m_hist = np.array(m_hist)\n",
        "visit_hist = np.array(visit_hist)"
      ],
      "execution_count": 0,
      "outputs": []
    },
    {
      "cell_type": "markdown",
      "metadata": {
        "id": "CLCwhBt58AMm",
        "colab_type": "text"
      },
      "source": [
        "Values of $m_b$ and $m_y$"
      ]
    },
    {
      "cell_type": "code",
      "metadata": {
        "id": "LpZvmf8KOLx5",
        "colab_type": "code",
        "outputId": "3db24ac3-06ae-441c-c553-1599ad444e31",
        "colab": {
          "base_uri": "https://localhost:8080/",
          "height": 300
        }
      },
      "source": [
        "plt.plot(m_hist[:,0], label=\"mb\")\n",
        "plt.plot(m_hist[:,1], label=\"my\")\n",
        "plt.xlabel(\"visit to flowers\")\n",
        "plt.ylabel(\"m\")\n",
        "plt.legend()"
      ],
      "execution_count": 0,
      "outputs": [
        {
          "output_type": "execute_result",
          "data": {
            "text/plain": [
              "<matplotlib.legend.Legend at 0x7f2935e9d278>"
            ]
          },
          "metadata": {
            "tags": []
          },
          "execution_count": 123
        },
        {
          "output_type": "display_data",
          "data": {
            "image/png": "[encoded data removed]",
            "text/plain": [
              "<Figure size 432x288 with 1 Axes>"
            ]
          },
          "metadata": {
            "tags": []
          }
        }
      ]
    },
    {
      "cell_type": "markdown",
      "metadata": {
        "id": "GcrV2fEL8lik",
        "colab_type": "text"
      },
      "source": [
        "Sum visit to flower"
      ]
    },
    {
      "cell_type": "code",
      "metadata": {
        "id": "E1zRMk-R8k3W",
        "colab_type": "code",
        "outputId": "3d245abb-f2f6-4517-ba59-ecc917d0a51b",
        "colab": {
          "base_uri": "https://localhost:8080/",
          "height": 300
        }
      },
      "source": [
        "plt.plot(visit_hist[:,0].cumsum(), label=\"blue\")\n",
        "plt.plot(visit_hist[:,1].cumsum(), label=\"yellow\")\n",
        "plt.xlabel(\"visit to flowers\")\n",
        "plt.ylabel(\"sum visits\")\n",
        "plt.legend()"
      ],
      "execution_count": 0,
      "outputs": [
        {
          "output_type": "execute_result",
          "data": {
            "text/plain": [
              "<matplotlib.legend.Legend at 0x7f2935f26550>"
            ]
          },
          "metadata": {
            "tags": []
          },
          "execution_count": 121
        },
        {
          "output_type": "display_data",
          "data": {
            "image/png": "[encoded data removed]",
            "text/plain": [
              "<Figure size 432x288 with 1 Axes>"
            ]
          },
          "metadata": {
            "tags": []
          }
        }
      ]
    },
    {
      "cell_type": "markdown",
      "metadata": {
        "id": "0Q-XH2VnDmnl",
        "colab_type": "text"
      },
      "source": [
        "### Direct actor"
      ]
    },
    {
      "cell_type": "code",
      "metadata": {
        "id": "GsLP2YO4DoJS",
        "colab_type": "code",
        "colab": {}
      },
      "source": [
        "\n",
        "epsilon = 0.1\n",
        "beta = 1\n",
        "r_bar = 1.5\n",
        "\n",
        "m = [0.0, 0.0] # action values\n",
        "visit = [0,0]\n",
        "\n",
        "# history\n",
        "m_hist = [m]\n",
        "visit_hist = [visit]\n",
        "\n",
        "\n",
        "flower_env = Bandit(2)\n",
        "flower_env.mean_reward = [1, 2]\n",
        "for i in range(0,100):\n",
        "    m = m.copy()\n",
        "    \n",
        "    action_prob = softmax(m, beta)\n",
        "    action = random.choices([0,1], weights=action_prob)[0]\n",
        "    reward = flower_env.return_reward(action)\n",
        "    \n",
        "    \n",
        "    kdb = 1 if action==0 else 0\n",
        "    kdy = 1 if action==1 else 0 \n",
        "    m[0] = m[0] + epsilon * (kdb - action_prob[0]) * (reward - r_bar)\n",
        "    m[1] = m[1] + epsilon * (kdy - action_prob[1]) * (reward - r_bar)\n",
        "    \n",
        "    m_hist.append(m)\n",
        "    visit_hist.append([1,0] if action==0 else [0,1])\n",
        "    \n",
        "    \n",
        "# Change mean reward(nector volume) of each flower at t=100\n",
        "flower_env.mean_reward = [2, 1]\n",
        "for i in range(100,300):\n",
        "    m = m.copy()\n",
        "    \n",
        "    action_prob = softmax(m, beta)\n",
        "    action = random.choices([0,1], weights=action_prob)[0]\n",
        "    reward = flower_env.return_reward(action)\n",
        "\n",
        "    \n",
        "    \n",
        "    kdb = 1 if action==0 else 0\n",
        "    kdy = 1 if action==1 else 0 \n",
        "    m[0] = m[0] + epsilon * (kdb - action_prob[0]) * (reward - r_bar)\n",
        "    m[1] = m[1] + epsilon * (kdy - action_prob[1]) * (reward - r_bar)\n",
        "    \n",
        "    \n",
        "    m_hist.append(m)\n",
        "    visit_hist.append([1,0] if action==0 else [0,1])\n",
        "\n",
        "m_hist = np.array(m_hist)\n",
        "visit_hist = np.array(visit_hist)"
      ],
      "execution_count": 0,
      "outputs": []
    },
    {
      "cell_type": "code",
      "metadata": {
        "id": "sLlGTY_pBfqV",
        "colab_type": "code",
        "outputId": "d172f45d-5ed8-4632-b884-e2e908b84a28",
        "colab": {
          "base_uri": "https://localhost:8080/",
          "height": 300
        }
      },
      "source": [
        "plt.plot(m_hist[:,0], label=\"mb\")\n",
        "plt.plot(m_hist[:,1], label=\"my\")\n",
        "plt.xlabel(\"visit to flowers\")\n",
        "plt.ylabel(\"m\")\n",
        "plt.legend()"
      ],
      "execution_count": 0,
      "outputs": [
        {
          "output_type": "execute_result",
          "data": {
            "text/plain": [
              "<matplotlib.legend.Legend at 0x7f2935b70ef0>"
            ]
          },
          "metadata": {
            "tags": []
          },
          "execution_count": 136
        },
        {
          "output_type": "display_data",
          "data": {
            "image/png": "[encoded data removed]",
            "text/plain": [
              "<Figure size 432x288 with 1 Axes>"
            ]
          },
          "metadata": {
            "tags": []
          }
        }
      ]
    },
    {
      "cell_type": "code",
      "metadata": {
        "id": "ozbDeW75CYjR",
        "colab_type": "code",
        "outputId": "2e4fc4b4-2286-4f84-ea88-ff0cabf69026",
        "colab": {
          "base_uri": "https://localhost:8080/",
          "height": 300
        }
      },
      "source": [
        "plt.plot(visit_hist[:,0].cumsum(), label=\"blue\")\n",
        "plt.plot(visit_hist[:,1].cumsum(), label=\"yellow\")\n",
        "plt.xlabel(\"visit to flowers\")\n",
        "plt.ylabel(\"sum visits\")\n",
        "plt.legend()"
      ],
      "execution_count": 0,
      "outputs": [
        {
          "output_type": "execute_result",
          "data": {
            "text/plain": [
              "<matplotlib.legend.Legend at 0x7f2935af2710>"
            ]
          },
          "metadata": {
            "tags": []
          },
          "execution_count": 137
        },
        {
          "output_type": "display_data",
          "data": {
            "image/png": "[encoded data removed]",
            "text/plain": [
              "<Figure size 432x288 with 1 Axes>"
            ]
          },
          "metadata": {
            "tags": []
          }
        }
      ]
    },
    {
      "cell_type": "code",
      "metadata": {
        "id": "gzX3DobyDTB3",
        "colab_type": "code",
        "colab": {}
      },
      "source": [
        ""
      ],
      "execution_count": 0,
      "outputs": []
    }
  ]
}