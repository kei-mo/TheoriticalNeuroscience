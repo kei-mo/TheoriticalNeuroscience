{
  "nbformat": 4,
  "nbformat_minor": 0,
  "metadata": {
    "colab": {
      "name": "Chapter8_Reinforcement_Learning.ipynb",
      "version": "0.3.2",
      "provenance": [],
      "collapsed_sections": [],
      "include_colab_link": true
    },
    "kernelspec": {
      "name": "python3",
      "display_name": "Python 3"
    }
  },
  "cells": [
    {
      "cell_type": "markdown",
      "metadata": {
        "id": "view-in-github",
        "colab_type": "text"
      },
      "source": [
        "<a href=\"https://colab.research.google.com/github/kei-mo/TheoriticalNeuroscience/blob/master/Chapter8_Reinforcement_Learning.ipynb\" target=\"_parent\"><img src=\"https://colab.research.google.com/assets/colab-badge.svg\" alt=\"Open In Colab\"/></a>"
      ]
    },
    {
      "cell_type": "markdown",
      "metadata": {
        "id": "trCrH4-FhJhO",
        "colab_type": "text"
      },
      "source": [
        "# Chapter 9 : Classical Conditioning and Reinforcement Learning"
      ]
    },
    {
      "cell_type": "code",
      "metadata": {
        "id": "LGw8_8AieFBd",
        "colab_type": "code",
        "colab": {}
      },
      "source": [
        "from matplotlib import pyplot as plt\n",
        "import numpy as np"
      ],
      "execution_count": 0,
      "outputs": []
    },
    {
      "cell_type": "markdown",
      "metadata": {
        "id": "mqnieeq3hxSz",
        "colab_type": "text"
      },
      "source": [
        "## 9.1 Classical conditioning"
      ]
    },
    {
      "cell_type": "markdown",
      "metadata": {
        "id": "TiKCgo1lNbQ1",
        "colab_type": "text"
      },
      "source": [
        "### Prediction rewards: The Recorla-Wagner Rule"
      ]
    },
    {
      "cell_type": "markdown",
      "metadata": {
        "id": "ZWJ446eJZjyP",
        "colab_type": "text"
      },
      "source": [
        "$v =wu$  \n",
        "$w←w+\\epsilon \\delta u $  \n",
        "$\\delta = r - u $"
      ]
    },
    {
      "cell_type": "markdown",
      "metadata": {
        "id": "m_q5ZtMBepdb",
        "colab_type": "text"
      },
      "source": [
        "#### Acquire"
      ]
    },
    {
      "cell_type": "code",
      "metadata": {
        "id": "RpUgl50fNWFe",
        "colab_type": "code",
        "colab": {
          "base_uri": "https://localhost:8080/",
          "height": 269
        },
        "outputId": "7615e831-fac1-40d6-8b5b-ad58258223d8"
      },
      "source": [
        "epsilon = 0.05\n",
        "w_list = [0]\n",
        "for i in range(100):\n",
        "    r = 1\n",
        "    u = 1\n",
        "    v = w_list[i]*u\n",
        "    delta = r - v\n",
        "    w = w_list[i] + epsilon * delta * u\n",
        "    w_list.append(w)\n",
        "plt.plot(w_list, \"o\")\n",
        "plt.show()"
      ],
      "execution_count": 23,
      "outputs": [
        {
          "output_type": "display_data",
          "data": {
            "image/png": "[encoded data removed]",
            "text/plain": [
              "<Figure size 432x288 with 1 Axes>"
            ]
          },
          "metadata": {
            "tags": []
          }
        }
      ]
    },
    {
      "cell_type": "markdown",
      "metadata": {
        "id": "1crjQ-w0ers_",
        "colab_type": "text"
      },
      "source": [
        "#### Extinction"
      ]
    },
    {
      "cell_type": "code",
      "metadata": {
        "id": "Hu2JTEZgeviR",
        "colab_type": "code",
        "colab": {
          "base_uri": "https://localhost:8080/",
          "height": 269
        },
        "outputId": "4d858783-91e0-448a-b7f3-464ee51e4a7c"
      },
      "source": [
        "epsilon = 0.05\n",
        "w_list = [1]\n",
        "for i in range(100):\n",
        "    u = 1 \n",
        "    r = 0\n",
        "    v = w_list[i]*u\n",
        "    delta = r - v\n",
        "    w = w_list[i] + epsilon * delta * u\n",
        "    w_list.append(w)\n",
        "plt.plot(w_list,\"o\")\n",
        "plt.show()"
      ],
      "execution_count": 24,
      "outputs": [
        {
          "output_type": "display_data",
          "data": {
            "image/png": "[encoded data removed]",
            "text/plain": [
              "<Figure size 432x288 with 1 Axes>"
            ]
          },
          "metadata": {
            "tags": []
          }
        }
      ]
    },
    {
      "cell_type": "markdown",
      "metadata": {
        "id": "9pFWtSpyeuY6",
        "colab_type": "text"
      },
      "source": [
        "#### Partial reinforcment"
      ]
    },
    {
      "cell_type": "code",
      "metadata": {
        "id": "7j5PoKizeu5O",
        "colab_type": "code",
        "colab": {
          "base_uri": "https://localhost:8080/",
          "height": 269
        },
        "outputId": "690f6273-40e5-4275-aa6e-549b85e69a66"
      },
      "source": [
        "epsilon = 0.05\n",
        "w_list = [0]\n",
        "for i in range(200):\n",
        "    u = 1 \n",
        "    r = 1 if np.random.rand()>0.5 else 0\n",
        "    v = w_list[i]*u\n",
        "    delta = r - v\n",
        "    w = w_list[i] + epsilon * delta * u\n",
        "    w_list.append(w)\n",
        "plt.plot(w_list)\n",
        "plt.ylim(0,1)\n",
        "plt.show()"
      ],
      "execution_count": 27,
      "outputs": [
        {
          "output_type": "display_data",
          "data": {
            "image/png": "[encoded data removed]",
            "text/plain": [
              "<Figure size 432x288 with 1 Axes>"
            ]
          },
          "metadata": {
            "tags": []
          }
        }
      ]
    },
    {
      "cell_type": "markdown",
      "metadata": {
        "id": "zVHPO_CTi0S4",
        "colab_type": "text"
      },
      "source": [
        "### Temporal difference "
      ]
    },
    {
      "cell_type": "code",
      "metadata": {
        "id": "pbyKNKnQjAO7",
        "colab_type": "code",
        "colab": {}
      },
      "source": [
        ""
      ],
      "execution_count": 0,
      "outputs": []
    },
    {
      "cell_type": "markdown",
      "metadata": {
        "id": "5d3DZH1HDaRq",
        "colab_type": "text"
      },
      "source": [
        "## 9.3 Static Action Choice"
      ]
    },
    {
      "cell_type": "markdown",
      "metadata": {
        "id": "YyiZEh5uDkCo",
        "colab_type": "text"
      },
      "source": [
        "### Indirect actor"
      ]
    },
    {
      "cell_type": "code",
      "metadata": {
        "id": "akad9MQoDeZt",
        "colab_type": "code",
        "colab": {}
      },
      "source": [
        ""
      ],
      "execution_count": 0,
      "outputs": []
    },
    {
      "cell_type": "markdown",
      "metadata": {
        "id": "0Q-XH2VnDmnl",
        "colab_type": "text"
      },
      "source": [
        "### Direct actor"
      ]
    },
    {
      "cell_type": "code",
      "metadata": {
        "id": "GsLP2YO4DoJS",
        "colab_type": "code",
        "colab": {}
      },
      "source": [
        ""
      ],
      "execution_count": 0,
      "outputs": []
    }
  ]
}